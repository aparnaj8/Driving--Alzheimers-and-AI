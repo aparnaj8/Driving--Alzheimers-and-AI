{
 "cells": [
  {
   "cell_type": "code",
   "execution_count": 6,
   "id": "d5c4c427-a739-4613-8567-fcf737971005",
   "metadata": {},
   "outputs": [],
   "source": [
    "import pandas as pd\n",
    "import glob\n",
    "import os"
   ]
  },
  {
   "cell_type": "code",
   "execution_count": 8,
   "id": "628a9e85-ca04-43bf-91a6-83a181fc53d9",
   "metadata": {},
   "outputs": [],
   "source": [
    "# Define the file path\n",
    "file_path =  r'C:/Users/aparnaj8/Box/InTrans/RWRAD_Internal/Final_files_with_variables/LOSO_CV results/losocv_results_with_hyperparameter_tuning_parallel_driving_demo.csv'\n",
    "\n",
    "# Read the CSV file into a DataFrame\n",
    "all_var_df= pd.read_csv(file_path)"
   ]
  },
  {
   "cell_type": "code",
   "execution_count": 9,
   "id": "6e1c803c-4d82-4b2a-aa6f-ab22188751f1",
   "metadata": {},
   "outputs": [
    {
     "data": {
      "text/html": [
       "<div>\n",
       "<style scoped>\n",
       "    .dataframe tbody tr th:only-of-type {\n",
       "        vertical-align: middle;\n",
       "    }\n",
       "\n",
       "    .dataframe tbody tr th {\n",
       "        vertical-align: top;\n",
       "    }\n",
       "\n",
       "    .dataframe thead th {\n",
       "        text-align: right;\n",
       "    }\n",
       "</style>\n",
       "<table border=\"1\" class=\"dataframe\">\n",
       "  <thead>\n",
       "    <tr style=\"text-align: right;\">\n",
       "      <th></th>\n",
       "      <th>Subject</th>\n",
       "      <th>Data Point Index</th>\n",
       "      <th>True Label</th>\n",
       "      <th>Predicted Label</th>\n",
       "      <th>Training Accuracy</th>\n",
       "      <th>Test Accuracy</th>\n",
       "      <th>Best Hyperparameters</th>\n",
       "    </tr>\n",
       "  </thead>\n",
       "  <tbody>\n",
       "    <tr>\n",
       "      <th>0</th>\n",
       "      <td>RWRAD_001</td>\n",
       "      <td>0</td>\n",
       "      <td>1</td>\n",
       "      <td>1</td>\n",
       "      <td>0.932622</td>\n",
       "      <td>1.0</td>\n",
       "      <td>{'subsample': 0.8, 'reg_lambda': 10, 'reg_alph...</td>\n",
       "    </tr>\n",
       "    <tr>\n",
       "      <th>1</th>\n",
       "      <td>RWRAD_001</td>\n",
       "      <td>1</td>\n",
       "      <td>1</td>\n",
       "      <td>1</td>\n",
       "      <td>0.932622</td>\n",
       "      <td>1.0</td>\n",
       "      <td>{'subsample': 0.8, 'reg_lambda': 10, 'reg_alph...</td>\n",
       "    </tr>\n",
       "    <tr>\n",
       "      <th>2</th>\n",
       "      <td>RWRAD_001</td>\n",
       "      <td>2</td>\n",
       "      <td>1</td>\n",
       "      <td>1</td>\n",
       "      <td>0.932622</td>\n",
       "      <td>1.0</td>\n",
       "      <td>{'subsample': 0.8, 'reg_lambda': 10, 'reg_alph...</td>\n",
       "    </tr>\n",
       "    <tr>\n",
       "      <th>3</th>\n",
       "      <td>RWRAD_001</td>\n",
       "      <td>3</td>\n",
       "      <td>1</td>\n",
       "      <td>1</td>\n",
       "      <td>0.932622</td>\n",
       "      <td>1.0</td>\n",
       "      <td>{'subsample': 0.8, 'reg_lambda': 10, 'reg_alph...</td>\n",
       "    </tr>\n",
       "    <tr>\n",
       "      <th>4</th>\n",
       "      <td>RWRAD_001</td>\n",
       "      <td>4</td>\n",
       "      <td>1</td>\n",
       "      <td>1</td>\n",
       "      <td>0.932622</td>\n",
       "      <td>1.0</td>\n",
       "      <td>{'subsample': 0.8, 'reg_lambda': 10, 'reg_alph...</td>\n",
       "    </tr>\n",
       "  </tbody>\n",
       "</table>\n",
       "</div>"
      ],
      "text/plain": [
       "     Subject  Data Point Index  True Label  Predicted Label  \\\n",
       "0  RWRAD_001                 0           1                1   \n",
       "1  RWRAD_001                 1           1                1   \n",
       "2  RWRAD_001                 2           1                1   \n",
       "3  RWRAD_001                 3           1                1   \n",
       "4  RWRAD_001                 4           1                1   \n",
       "\n",
       "   Training Accuracy  Test Accuracy  \\\n",
       "0           0.932622            1.0   \n",
       "1           0.932622            1.0   \n",
       "2           0.932622            1.0   \n",
       "3           0.932622            1.0   \n",
       "4           0.932622            1.0   \n",
       "\n",
       "                                Best Hyperparameters  \n",
       "0  {'subsample': 0.8, 'reg_lambda': 10, 'reg_alph...  \n",
       "1  {'subsample': 0.8, 'reg_lambda': 10, 'reg_alph...  \n",
       "2  {'subsample': 0.8, 'reg_lambda': 10, 'reg_alph...  \n",
       "3  {'subsample': 0.8, 'reg_lambda': 10, 'reg_alph...  \n",
       "4  {'subsample': 0.8, 'reg_lambda': 10, 'reg_alph...  "
      ]
     },
     "execution_count": 9,
     "metadata": {},
     "output_type": "execute_result"
    }
   ],
   "source": [
    "all_var_df.head()"
   ]
  },
  {
   "cell_type": "code",
   "execution_count": 66,
   "id": "0219e785-165b-44f1-954d-23dfc912eb64",
   "metadata": {},
   "outputs": [
    {
     "data": {
      "text/plain": [
       "119"
      ]
     },
     "execution_count": 66,
     "metadata": {},
     "output_type": "execute_result"
    }
   ],
   "source": [
    "all_var_df['Subject'].nunique()"
   ]
  },
  {
   "cell_type": "code",
   "execution_count": 68,
   "id": "04e97d42-38e2-4097-a9c0-6b8e02de9cb3",
   "metadata": {},
   "outputs": [
    {
     "name": "stdout",
     "output_type": "stream",
     "text": [
      "Number of subjects with more than 1 unique value for True Label: 1\n"
     ]
    }
   ],
   "source": [
    "# Assuming the DataFrame is named `df` and the relevant columns are 'subj' for the subject and 'True_Label' for the label\n",
    "\n",
    "# Group by 'subj' (subject) and check unique values in 'True_Label' for each subject\n",
    "unique_label_counts = all_var_df.groupby('Subject')['True Label'].nunique()\n",
    "\n",
    "# Count how many subjects have more than one unique value for 'True_Label'\n",
    "subjects_with_multiple_labels = (unique_label_counts > 1).sum()\n",
    "\n",
    "# Print the result\n",
    "print(f\"Number of subjects with more than 1 unique value for True Label: {subjects_with_multiple_labels}\")\n"
   ]
  },
  {
   "cell_type": "code",
   "execution_count": 70,
   "id": "70617506-b70b-422e-a293-ef492b4a222e",
   "metadata": {},
   "outputs": [
    {
     "name": "stdout",
     "output_type": "stream",
     "text": [
      "Subjects with more than 1 unique value for True Label:\n",
      "Index(['RWRAD_065'], dtype='object', name='Subject')\n"
     ]
    }
   ],
   "source": [
    "# Assuming the DataFrame is named `df` and the relevant columns are 'subj' for the subject and 'True_Label' for the label\n",
    "\n",
    "# Group by 'subj' and check how many unique values exist for 'True_Label'\n",
    "unique_label_counts = all_var_df.groupby('Subject')['True Label'].nunique()\n",
    "\n",
    "# Get the subjects where the number of unique labels is greater than 1\n",
    "subjects_with_multiple_labels = unique_label_counts[unique_label_counts > 1].index\n",
    "\n",
    "# Print the subjects with more than 1 unique value for True Label\n",
    "print(\"Subjects with more than 1 unique value for True Label:\")\n",
    "print(subjects_with_multiple_labels)\n"
   ]
  },
  {
   "cell_type": "code",
   "execution_count": 72,
   "id": "6f318d2d-8499-429b-ae4d-56cbb38be777",
   "metadata": {},
   "outputs": [],
   "source": [
    "import pandas as pd\n",
    "\n",
    "# Assuming the DataFrame is named `df` with columns 'subj', 'True_Label', and 'Predicted_Label'\n",
    "\n",
    "# Group by 'subj' to summarize data for each subject\n",
    "summary_df = all_var_df.groupby('Subject').agg(\n",
    "    num_data_points=('Subject', 'size'),\n",
    "    true_label=('True Label', lambda x: x.iloc[0] if len(x.unique()) == 1 else 'Multiple'),  # Repeat or mark 'Multiple' if more than 1 unique True_Label\n",
    "    num_predicted_1=('Predicted Label', lambda x: (x == 1).sum()),  # Count of Predicted_Label == 1\n",
    "    num_predicted_0=('Predicted Label', lambda x: (x == 0).sum())  # Count of Predicted_Label == 0\n",
    ")\n",
    "\n",
    "# Add a column for Final_call: 1 if num_predicted_1 > num_predicted_0, otherwise 0\n",
    "summary_df['Final_call'] = (summary_df['num_predicted_1'] > summary_df['num_predicted_0']).astype(int)\n",
    "\n",
    "# Reset index to make 'subj' a regular column again (for easier viewing)\n",
    "summary_df.reset_index(inplace=True)\n",
    "\n"
   ]
  },
  {
   "cell_type": "code",
   "execution_count": 74,
   "id": "9205d527-0c43-4e6e-9f3a-cdead3e64e34",
   "metadata": {},
   "outputs": [
    {
     "data": {
      "text/html": [
       "<div>\n",
       "<style scoped>\n",
       "    .dataframe tbody tr th:only-of-type {\n",
       "        vertical-align: middle;\n",
       "    }\n",
       "\n",
       "    .dataframe tbody tr th {\n",
       "        vertical-align: top;\n",
       "    }\n",
       "\n",
       "    .dataframe thead th {\n",
       "        text-align: right;\n",
       "    }\n",
       "</style>\n",
       "<table border=\"1\" class=\"dataframe\">\n",
       "  <thead>\n",
       "    <tr style=\"text-align: right;\">\n",
       "      <th></th>\n",
       "      <th>Subject</th>\n",
       "      <th>num_data_points</th>\n",
       "      <th>true_label</th>\n",
       "      <th>num_predicted_1</th>\n",
       "      <th>num_predicted_0</th>\n",
       "      <th>Final_call</th>\n",
       "    </tr>\n",
       "  </thead>\n",
       "  <tbody>\n",
       "    <tr>\n",
       "      <th>0</th>\n",
       "      <td>RWRAD_001</td>\n",
       "      <td>14</td>\n",
       "      <td>1</td>\n",
       "      <td>14</td>\n",
       "      <td>0</td>\n",
       "      <td>1</td>\n",
       "    </tr>\n",
       "    <tr>\n",
       "      <th>1</th>\n",
       "      <td>RWRAD_002</td>\n",
       "      <td>13</td>\n",
       "      <td>0</td>\n",
       "      <td>7</td>\n",
       "      <td>6</td>\n",
       "      <td>1</td>\n",
       "    </tr>\n",
       "    <tr>\n",
       "      <th>2</th>\n",
       "      <td>RWRAD_003</td>\n",
       "      <td>12</td>\n",
       "      <td>0</td>\n",
       "      <td>12</td>\n",
       "      <td>0</td>\n",
       "      <td>1</td>\n",
       "    </tr>\n",
       "    <tr>\n",
       "      <th>3</th>\n",
       "      <td>RWRAD_004</td>\n",
       "      <td>14</td>\n",
       "      <td>0</td>\n",
       "      <td>14</td>\n",
       "      <td>0</td>\n",
       "      <td>1</td>\n",
       "    </tr>\n",
       "    <tr>\n",
       "      <th>4</th>\n",
       "      <td>RWRAD_005</td>\n",
       "      <td>14</td>\n",
       "      <td>0</td>\n",
       "      <td>0</td>\n",
       "      <td>14</td>\n",
       "      <td>0</td>\n",
       "    </tr>\n",
       "    <tr>\n",
       "      <th>...</th>\n",
       "      <td>...</td>\n",
       "      <td>...</td>\n",
       "      <td>...</td>\n",
       "      <td>...</td>\n",
       "      <td>...</td>\n",
       "      <td>...</td>\n",
       "    </tr>\n",
       "    <tr>\n",
       "      <th>60</th>\n",
       "      <td>RWRAD_063</td>\n",
       "      <td>5</td>\n",
       "      <td>1</td>\n",
       "      <td>5</td>\n",
       "      <td>0</td>\n",
       "      <td>1</td>\n",
       "    </tr>\n",
       "    <tr>\n",
       "      <th>61</th>\n",
       "      <td>RWRAD_064</td>\n",
       "      <td>12</td>\n",
       "      <td>0</td>\n",
       "      <td>12</td>\n",
       "      <td>0</td>\n",
       "      <td>1</td>\n",
       "    </tr>\n",
       "    <tr>\n",
       "      <th>62</th>\n",
       "      <td>RWRAD_065</td>\n",
       "      <td>13</td>\n",
       "      <td>Multiple</td>\n",
       "      <td>6</td>\n",
       "      <td>7</td>\n",
       "      <td>0</td>\n",
       "    </tr>\n",
       "    <tr>\n",
       "      <th>63</th>\n",
       "      <td>RWRAD_066</td>\n",
       "      <td>15</td>\n",
       "      <td>0</td>\n",
       "      <td>6</td>\n",
       "      <td>9</td>\n",
       "      <td>0</td>\n",
       "    </tr>\n",
       "    <tr>\n",
       "      <th>64</th>\n",
       "      <td>RWRAD_067</td>\n",
       "      <td>14</td>\n",
       "      <td>0</td>\n",
       "      <td>0</td>\n",
       "      <td>14</td>\n",
       "      <td>0</td>\n",
       "    </tr>\n",
       "  </tbody>\n",
       "</table>\n",
       "<p>65 rows × 6 columns</p>\n",
       "</div>"
      ],
      "text/plain": [
       "      Subject  num_data_points true_label  num_predicted_1  num_predicted_0  \\\n",
       "0   RWRAD_001               14          1               14                0   \n",
       "1   RWRAD_002               13          0                7                6   \n",
       "2   RWRAD_003               12          0               12                0   \n",
       "3   RWRAD_004               14          0               14                0   \n",
       "4   RWRAD_005               14          0                0               14   \n",
       "..        ...              ...        ...              ...              ...   \n",
       "60  RWRAD_063                5          1                5                0   \n",
       "61  RWRAD_064               12          0               12                0   \n",
       "62  RWRAD_065               13   Multiple                6                7   \n",
       "63  RWRAD_066               15          0                6                9   \n",
       "64  RWRAD_067               14          0                0               14   \n",
       "\n",
       "    Final_call  \n",
       "0            1  \n",
       "1            1  \n",
       "2            1  \n",
       "3            1  \n",
       "4            0  \n",
       "..         ...  \n",
       "60           1  \n",
       "61           1  \n",
       "62           0  \n",
       "63           0  \n",
       "64           0  \n",
       "\n",
       "[65 rows x 6 columns]"
      ]
     },
     "execution_count": 74,
     "metadata": {},
     "output_type": "execute_result"
    }
   ],
   "source": [
    "summary_df.head(65)"
   ]
  },
  {
   "cell_type": "code",
   "execution_count": 76,
   "id": "ff9ce060-831b-40af-8763-95ff6f2a012d",
   "metadata": {},
   "outputs": [
    {
     "data": {
      "text/plain": [
       "119"
      ]
     },
     "execution_count": 76,
     "metadata": {},
     "output_type": "execute_result"
    }
   ],
   "source": [
    "len(summary_df)"
   ]
  },
  {
   "cell_type": "code",
   "execution_count": null,
   "id": "ffa82f83-efa4-44f9-9e34-06fc9dfbc32f",
   "metadata": {},
   "outputs": [],
   "source": []
  },
  {
   "cell_type": "code",
   "execution_count": 121,
   "id": "0701b51b-fcc0-45d3-8897-9226a3236ee7",
   "metadata": {},
   "outputs": [
    {
     "name": "stdout",
     "output_type": "stream",
     "text": [
      "Accuracy: 0.6695\n",
      "Count of Correct Predictions: 79\n"
     ]
    },
    {
     "name": "stderr",
     "output_type": "stream",
     "text": [
      "C:\\Users\\aparnaj8\\AppData\\Local\\Temp\\ipykernel_43968\\1470613799.py:8: SettingWithCopyWarning: \n",
      "A value is trying to be set on a copy of a slice from a DataFrame.\n",
      "Try using .loc[row_indexer,col_indexer] = value instead\n",
      "\n",
      "See the caveats in the documentation: https://pandas.pydata.org/pandas-docs/stable/user_guide/indexing.html#returning-a-view-versus-a-copy\n",
      "  filtered_df['correct_prediction'] = filtered_df['true_label'] == filtered_df['Final_call']\n"
     ]
    }
   ],
   "source": [
    "import pandas as pd\n",
    "\n",
    "# Assuming `expanded_summary_df` is your DataFrame\n",
    "# Remove rows where the 'true_label' is \"Multiple\"\n",
    "filtered_df = summary_df[summary_df['true_label'] != 'Multiple']\n",
    "\n",
    "# Create a new column to check if True_Label matches Final_Call\n",
    "filtered_df['correct_prediction'] = filtered_df['true_label'] == filtered_df['Final_call']\n",
    "\n",
    "# Calculate accuracy by dividing the number of correct predictions by the total number of data points\n",
    "accuracy = filtered_df['correct_prediction'].sum() / len(filtered_df)\n",
    "\n",
    "# Calculate the count of correct predictions\n",
    "correct_prediction_count = filtered_df['correct_prediction'].sum()\n",
    "\n",
    "# Print the accuracy and the count of correct predictions\n",
    "print(f\"Accuracy: {accuracy:.4f}\")\n",
    "print(f\"Count of Correct Predictions: {correct_prediction_count}\")\n"
   ]
  },
  {
   "cell_type": "code",
   "execution_count": 123,
   "id": "aac93306-d3fe-400c-9b3f-65314afe00b3",
   "metadata": {},
   "outputs": [
    {
     "data": {
      "text/html": [
       "<div>\n",
       "<style scoped>\n",
       "    .dataframe tbody tr th:only-of-type {\n",
       "        vertical-align: middle;\n",
       "    }\n",
       "\n",
       "    .dataframe tbody tr th {\n",
       "        vertical-align: top;\n",
       "    }\n",
       "\n",
       "    .dataframe thead th {\n",
       "        text-align: right;\n",
       "    }\n",
       "</style>\n",
       "<table border=\"1\" class=\"dataframe\">\n",
       "  <thead>\n",
       "    <tr style=\"text-align: right;\">\n",
       "      <th></th>\n",
       "      <th>Subject</th>\n",
       "      <th>num_data_points</th>\n",
       "      <th>true_label</th>\n",
       "      <th>num_predicted_1</th>\n",
       "      <th>num_predicted_0</th>\n",
       "      <th>Final_call</th>\n",
       "      <th>correct_prediction</th>\n",
       "    </tr>\n",
       "  </thead>\n",
       "  <tbody>\n",
       "    <tr>\n",
       "      <th>0</th>\n",
       "      <td>RWRAD_001</td>\n",
       "      <td>14</td>\n",
       "      <td>1</td>\n",
       "      <td>14</td>\n",
       "      <td>0</td>\n",
       "      <td>1</td>\n",
       "      <td>True</td>\n",
       "    </tr>\n",
       "    <tr>\n",
       "      <th>1</th>\n",
       "      <td>RWRAD_002</td>\n",
       "      <td>13</td>\n",
       "      <td>0</td>\n",
       "      <td>7</td>\n",
       "      <td>6</td>\n",
       "      <td>1</td>\n",
       "      <td>False</td>\n",
       "    </tr>\n",
       "    <tr>\n",
       "      <th>2</th>\n",
       "      <td>RWRAD_003</td>\n",
       "      <td>12</td>\n",
       "      <td>0</td>\n",
       "      <td>12</td>\n",
       "      <td>0</td>\n",
       "      <td>1</td>\n",
       "      <td>False</td>\n",
       "    </tr>\n",
       "    <tr>\n",
       "      <th>3</th>\n",
       "      <td>RWRAD_004</td>\n",
       "      <td>14</td>\n",
       "      <td>0</td>\n",
       "      <td>14</td>\n",
       "      <td>0</td>\n",
       "      <td>1</td>\n",
       "      <td>False</td>\n",
       "    </tr>\n",
       "    <tr>\n",
       "      <th>4</th>\n",
       "      <td>RWRAD_005</td>\n",
       "      <td>14</td>\n",
       "      <td>0</td>\n",
       "      <td>0</td>\n",
       "      <td>14</td>\n",
       "      <td>0</td>\n",
       "      <td>True</td>\n",
       "    </tr>\n",
       "  </tbody>\n",
       "</table>\n",
       "</div>"
      ],
      "text/plain": [
       "     Subject  num_data_points true_label  num_predicted_1  num_predicted_0  \\\n",
       "0  RWRAD_001               14          1               14                0   \n",
       "1  RWRAD_002               13          0                7                6   \n",
       "2  RWRAD_003               12          0               12                0   \n",
       "3  RWRAD_004               14          0               14                0   \n",
       "4  RWRAD_005               14          0                0               14   \n",
       "\n",
       "   Final_call  correct_prediction  \n",
       "0           1                True  \n",
       "1           1               False  \n",
       "2           1               False  \n",
       "3           1               False  \n",
       "4           0                True  "
      ]
     },
     "execution_count": 123,
     "metadata": {},
     "output_type": "execute_result"
    }
   ],
   "source": [
    "filtered_df.head()"
   ]
  },
  {
   "cell_type": "code",
   "execution_count": 125,
   "id": "2e93bc35-e97e-4c18-8649-04c174778fda",
   "metadata": {},
   "outputs": [
    {
     "name": "stdout",
     "output_type": "stream",
     "text": [
      "Precision: 0.7143\n",
      "Recall: 0.7639\n",
      "F1 Score: 0.7383\n"
     ]
    }
   ],
   "source": [
    "import pandas as pd\n",
    "\n",
    "# Create variables for True Positives, False Positives, False Negatives, and True Negatives\n",
    "tp = ((filtered_df['true_label'] == 1) & (filtered_df['Final_call'] == 1)).sum()\n",
    "fp = ((filtered_df['true_label'] == 0) & (filtered_df['Final_call'] == 1)).sum()\n",
    "fn = ((filtered_df['true_label'] == 1) & (filtered_df['Final_call'] == 0)).sum()\n",
    "tn = ((filtered_df['true_label'] == 0) & (filtered_df['Final_call'] == 0)).sum()\n",
    "\n",
    "# Calculate Precision, Recall, and F1 Score\n",
    "precision = tp / (tp + fp) if (tp + fp) != 0 else 0  # Avoid division by zero\n",
    "recall = tp / (tp + fn) if (tp + fn) != 0 else 0  # Avoid division by zero\n",
    "f1_score = 2 * (precision * recall) / (precision + recall) if (precision + recall) != 0 else 0  # Avoid division by zero\n",
    "\n",
    "# Print the results\n",
    "print(f\"Precision: {precision:.4f}\")\n",
    "print(f\"Recall: {recall:.4f}\")\n",
    "print(f\"F1 Score: {f1_score:.4f}\")"
   ]
  },
  {
   "cell_type": "code",
   "execution_count": 131,
   "id": "b04c0e0f-7697-455a-922e-756f0e2bf5fb",
   "metadata": {
    "scrolled": true
   },
   "outputs": [
    {
     "name": "stderr",
     "output_type": "stream",
     "text": [
      "C:\\Users\\aparnaj8\\AppData\\Local\\Temp\\ipykernel_43968\\2200530149.py:1: SettingWithCopyWarning: \n",
      "A value is trying to be set on a copy of a slice from a DataFrame.\n",
      "Try using .loc[row_indexer,col_indexer] = value instead\n",
      "\n",
      "See the caveats in the documentation: https://pandas.pydata.org/pandas-docs/stable/user_guide/indexing.html#returning-a-view-versus-a-copy\n",
      "  filtered_df['prediction_ratio_roc'] = filtered_df['num_predicted_1'] / filtered_df['num_data_points']\n"
     ]
    }
   ],
   "source": [
    "filtered_df['prediction_ratio_roc'] = filtered_df['num_predicted_1'] / filtered_df['num_data_points']\n"
   ]
  },
  {
   "cell_type": "code",
   "execution_count": 133,
   "id": "fd2ffe0c-7daa-4072-9d2b-6b18b0c5ef74",
   "metadata": {},
   "outputs": [
    {
     "name": "stdout",
     "output_type": "stream",
     "text": [
      "true_label              0\n",
      "prediction_ratio_roc    0\n",
      "dtype: int64\n"
     ]
    }
   ],
   "source": [
    "print(filtered_df[['true_label', 'prediction_ratio_roc']].isnull().sum())\n"
   ]
  },
  {
   "cell_type": "code",
   "execution_count": 135,
   "id": "5465a9bf-c76e-40ec-bf2b-d40fabae050c",
   "metadata": {},
   "outputs": [
    {
     "data": {
      "text/plain": [
       "array([1.        , 0.53846154, 0.        , 0.8125    , 0.3125    ,\n",
       "       0.14285714, 0.57142857, 0.83333333, 0.78571429, 0.69230769,\n",
       "       0.85714286, 0.42857143, 0.5       , 0.33333333, 0.93333333,\n",
       "       0.66666667, 0.21428571, 0.11111111, 0.35714286, 0.9375    ,\n",
       "       0.15384615, 0.63636364, 0.92857143, 0.73333333, 0.4       ,\n",
       "       0.64285714, 0.07692308, 0.07142857, 0.84615385, 0.92307692,\n",
       "       0.76923077, 0.6       , 0.53333333, 0.875     , 0.86666667,\n",
       "       0.29411765, 0.71428571, 0.28571429, 0.8       , 0.88888889])"
      ]
     },
     "execution_count": 135,
     "metadata": {},
     "output_type": "execute_result"
    }
   ],
   "source": [
    "filtered_df['prediction_ratio_roc'].unique()"
   ]
  },
  {
   "cell_type": "code",
   "execution_count": 137,
   "id": "4be64907-07cc-434c-976b-8e45969d1bc0",
   "metadata": {},
   "outputs": [
    {
     "data": {
      "text/html": [
       "<div>\n",
       "<style scoped>\n",
       "    .dataframe tbody tr th:only-of-type {\n",
       "        vertical-align: middle;\n",
       "    }\n",
       "\n",
       "    .dataframe tbody tr th {\n",
       "        vertical-align: top;\n",
       "    }\n",
       "\n",
       "    .dataframe thead th {\n",
       "        text-align: right;\n",
       "    }\n",
       "</style>\n",
       "<table border=\"1\" class=\"dataframe\">\n",
       "  <thead>\n",
       "    <tr style=\"text-align: right;\">\n",
       "      <th></th>\n",
       "      <th>Subject</th>\n",
       "      <th>num_data_points</th>\n",
       "      <th>true_label</th>\n",
       "      <th>num_predicted_1</th>\n",
       "      <th>num_predicted_0</th>\n",
       "      <th>Final_call</th>\n",
       "      <th>correct_prediction</th>\n",
       "      <th>prediction_ratio_roc</th>\n",
       "    </tr>\n",
       "  </thead>\n",
       "  <tbody>\n",
       "    <tr>\n",
       "      <th>0</th>\n",
       "      <td>RWRAD_001</td>\n",
       "      <td>14</td>\n",
       "      <td>1</td>\n",
       "      <td>14</td>\n",
       "      <td>0</td>\n",
       "      <td>1</td>\n",
       "      <td>True</td>\n",
       "      <td>1.000000</td>\n",
       "    </tr>\n",
       "    <tr>\n",
       "      <th>1</th>\n",
       "      <td>RWRAD_002</td>\n",
       "      <td>13</td>\n",
       "      <td>0</td>\n",
       "      <td>7</td>\n",
       "      <td>6</td>\n",
       "      <td>1</td>\n",
       "      <td>False</td>\n",
       "      <td>0.538462</td>\n",
       "    </tr>\n",
       "    <tr>\n",
       "      <th>2</th>\n",
       "      <td>RWRAD_003</td>\n",
       "      <td>12</td>\n",
       "      <td>0</td>\n",
       "      <td>12</td>\n",
       "      <td>0</td>\n",
       "      <td>1</td>\n",
       "      <td>False</td>\n",
       "      <td>1.000000</td>\n",
       "    </tr>\n",
       "    <tr>\n",
       "      <th>3</th>\n",
       "      <td>RWRAD_004</td>\n",
       "      <td>14</td>\n",
       "      <td>0</td>\n",
       "      <td>14</td>\n",
       "      <td>0</td>\n",
       "      <td>1</td>\n",
       "      <td>False</td>\n",
       "      <td>1.000000</td>\n",
       "    </tr>\n",
       "    <tr>\n",
       "      <th>4</th>\n",
       "      <td>RWRAD_005</td>\n",
       "      <td>14</td>\n",
       "      <td>0</td>\n",
       "      <td>0</td>\n",
       "      <td>14</td>\n",
       "      <td>0</td>\n",
       "      <td>True</td>\n",
       "      <td>0.000000</td>\n",
       "    </tr>\n",
       "  </tbody>\n",
       "</table>\n",
       "</div>"
      ],
      "text/plain": [
       "     Subject  num_data_points true_label  num_predicted_1  num_predicted_0  \\\n",
       "0  RWRAD_001               14          1               14                0   \n",
       "1  RWRAD_002               13          0                7                6   \n",
       "2  RWRAD_003               12          0               12                0   \n",
       "3  RWRAD_004               14          0               14                0   \n",
       "4  RWRAD_005               14          0                0               14   \n",
       "\n",
       "   Final_call  correct_prediction  prediction_ratio_roc  \n",
       "0           1                True              1.000000  \n",
       "1           1               False              0.538462  \n",
       "2           1               False              1.000000  \n",
       "3           1               False              1.000000  \n",
       "4           0                True              0.000000  "
      ]
     },
     "execution_count": 137,
     "metadata": {},
     "output_type": "execute_result"
    }
   ],
   "source": [
    "filtered_df.head()"
   ]
  },
  {
   "cell_type": "code",
   "execution_count": 139,
   "id": "552f0ac1-36b0-4070-944e-db20039d96b2",
   "metadata": {},
   "outputs": [
    {
     "name": "stdout",
     "output_type": "stream",
     "text": [
      "[1 0]\n",
      "float64\n"
     ]
    }
   ],
   "source": [
    "print(filtered_df['true_label'].unique())  # Should show [0, 1]\n",
    "print(filtered_df['prediction_ratio_roc'].dtype)  # Should be float64 or similar\n"
   ]
  },
  {
   "cell_type": "code",
   "execution_count": 145,
   "id": "4845354e-dc55-440f-b12d-f995bb2bc511",
   "metadata": {},
   "outputs": [
    {
     "name": "stderr",
     "output_type": "stream",
     "text": [
      "C:\\Users\\aparnaj8\\AppData\\Local\\Temp\\ipykernel_43968\\2028149415.py:1: SettingWithCopyWarning: \n",
      "A value is trying to be set on a copy of a slice from a DataFrame.\n",
      "Try using .loc[row_indexer,col_indexer] = value instead\n",
      "\n",
      "See the caveats in the documentation: https://pandas.pydata.org/pandas-docs/stable/user_guide/indexing.html#returning-a-view-versus-a-copy\n",
      "  filtered_df['true_label'] = filtered_df['true_label'].astype(int)\n"
     ]
    }
   ],
   "source": [
    "filtered_df['true_label'] = filtered_df['true_label'].astype(int)\n"
   ]
  },
  {
   "cell_type": "code",
   "execution_count": 149,
   "id": "1c47c628-24ce-439a-ac72-aa9e9fad76aa",
   "metadata": {},
   "outputs": [
    {
     "name": "stderr",
     "output_type": "stream",
     "text": [
      "C:\\Users\\aparnaj8\\AppData\\Local\\Temp\\ipykernel_43968\\2545829750.py:1: SettingWithCopyWarning: \n",
      "A value is trying to be set on a copy of a slice from a DataFrame.\n",
      "Try using .loc[row_indexer,col_indexer] = value instead\n",
      "\n",
      "See the caveats in the documentation: https://pandas.pydata.org/pandas-docs/stable/user_guide/indexing.html#returning-a-view-versus-a-copy\n",
      "  filtered_df['prediction_ratio_roc'] = pd.to_numeric(filtered_df['prediction_ratio_roc'], errors='coerce')\n"
     ]
    }
   ],
   "source": [
    "filtered_df['prediction_ratio_roc'] = pd.to_numeric(filtered_df['prediction_ratio_roc'], errors='coerce')\n"
   ]
  },
  {
   "cell_type": "code",
   "execution_count": 151,
   "id": "6b3dbb3a-5dfe-4d94-9a87-82ccaa15e2ca",
   "metadata": {},
   "outputs": [
    {
     "data": {
      "image/png": "[encoded data removed]",
      "text/plain": [
       "<Figure size 800x600 with 1 Axes>"
      ]
     },
     "metadata": {},
     "output_type": "display_data"
    }
   ],
   "source": [
    "import numpy as np\n",
    "from sklearn.metrics import roc_curve, roc_auc_score\n",
    "import matplotlib.pyplot as plt\n",
    "\n",
    "# Extract labels and predicted scores\n",
    "y_true = filtered_df['true_label'].values\n",
    "y_score = filtered_df['prediction_ratio_roc'].values\n",
    "\n",
    "# Compute ROC curve and AUC\n",
    "fpr, tpr, thresholds = roc_curve(y_true, y_score)\n",
    "roc_auc = roc_auc_score(y_true, y_score)\n",
    "\n",
    "# Find optimal threshold using Youden's J statistic\n",
    "optimal_idx = np.argmax(tpr - fpr)\n",
    "optimal_threshold = float(thresholds[optimal_idx])  # Convert to float\n",
    "\n",
    "# Plot ROC Curve\n",
    "plt.figure(figsize=(8, 6))\n",
    "plt.plot(fpr, tpr, label=f'ROC Curve (AUC = {roc_auc:.2f})', linewidth=2)\n",
    "plt.plot([0, 1], [0, 1], linestyle='--', color='gray')\n",
    "plt.scatter(fpr[optimal_idx], tpr[optimal_idx], color='red',\n",
    "            label=f'Optimal Threshold = {optimal_threshold:.2f}')\n",
    "plt.xlabel('False Positive Rate')\n",
    "plt.ylabel('True Positive Rate')\n",
    "plt.title('Subject-Level ROC Curve (LOSO-CV Aggregation)')\n",
    "plt.legend(loc='lower right')\n",
    "plt.grid(True)\n",
    "plt.tight_layout()\n",
    "plt.show()\n"
   ]
  },
  {
   "cell_type": "code",
   "execution_count": null,
   "id": "f9396a95-dc3c-4106-9594-5f85fad6531d",
   "metadata": {},
   "outputs": [],
   "source": []
  },
  {
   "cell_type": "code",
   "execution_count": null,
   "id": "185b5ccc-4986-42c4-b7f4-eadd39df636b",
   "metadata": {},
   "outputs": [],
   "source": []
  },
  {
   "cell_type": "code",
   "execution_count": null,
   "id": "873fb980-5cd1-49a2-8d76-5c791c1b9869",
   "metadata": {},
   "outputs": [],
   "source": []
  },
  {
   "cell_type": "code",
   "execution_count": null,
   "id": "2e0c0a5e-1eb3-4d81-a26c-b63ed80e6cc6",
   "metadata": {},
   "outputs": [],
   "source": []
  }
 ],
 "metadata": {
  "kernelspec": {
   "display_name": "Python 3 (ipykernel)",
   "language": "python",
   "name": "python3"
  },
  "language_info": {
   "codemirror_mode": {
    "name": "ipython",
    "version": 3
   },
   "file_extension": ".py",
   "mimetype": "text/x-python",
   "name": "python",
   "nbconvert_exporter": "python",
   "pygments_lexer": "ipython3",
   "version": "3.11.7"
  }
 },
 "nbformat": 4,
 "nbformat_minor": 5
}
